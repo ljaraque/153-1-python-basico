{
 "cells": [
  {
   "cell_type": "code",
   "execution_count": 2,
   "metadata": {},
   "outputs": [],
   "source": [
    "class Inventario:\n",
    "    \n",
    "    def __init__(self, nombre, nombre_archivo):\n",
    "        self.nombre = nombre\n",
    "        self.nombre_archivo = nombre_archivo\n",
    "        self.elementos = []\n",
    "    \n",
    "    def __crear_archivo(self):\n",
    "        pass\n",
    "\n",
    "    def agregar(self, elemento):\n",
    "        self.elementos.append(elemento)\n",
    "        return self.elementos\n",
    "    \n",
    "    def extraer(self):\n",
    "        pass\n",
    "    \n",
    "    def mostrar_contenido(self):\n",
    "        pass\n",
    "        \n",
    "    def vaciar(self):\n",
    "        pass\n",
    "    \n",
    "    def guardar_en_archivo(self):\n",
    "        pass\n",
    "    \n",
    "\n",
    "    "
   ]
  },
  {
   "cell_type": "code",
   "execution_count": null,
   "metadata": {},
   "outputs": [],
   "source": [
    "class HistoricoPizzas(Inventario):\n",
    "    pass"
   ]
  },
  {
   "cell_type": "code",
   "execution_count": null,
   "metadata": {},
   "outputs": [],
   "source": [
    "class PizzasEnComercializacion(Inventario):\n",
    "    \n",
    "    def __init__(self, ):\n",
    "        pass\n",
    "    "
   ]
  },
  {
   "cell_type": "code",
   "execution_count": null,
   "metadata": {},
   "outputs": [],
   "source": [
    "class RecetaPizza(Inventario):\n",
    "    pass"
   ]
  },
  {
   "cell_type": "code",
   "execution_count": null,
   "metadata": {},
   "outputs": [],
   "source": [
    "class Pizza(RecetaPizza):\n",
    "    pass"
   ]
  },
  {
   "cell_type": "code",
   "execution_count": null,
   "metadata": {},
   "outputs": [],
   "source": [
    "class BodegaIngredientes(Inventario):\n",
    "    pass"
   ]
  },
  {
   "cell_type": "code",
   "execution_count": null,
   "metadata": {},
   "outputs": [],
   "source": [
    "class Ingrediente:\n",
    "    pass"
   ]
  },
  {
   "cell_type": "code",
   "execution_count": null,
   "metadata": {},
   "outputs": [],
   "source": [
    "class FabricadorPizza:\n",
    "    def __init__(self, bodega_ingredientes, pizzas_en_comercializacion, historico_pizzas):\n",
    "        self.bodega_ingredientes = bodega_ingredientes\n",
    "        self.pizzas_en_comercializacion = pizzas_en_comercializacion\n",
    "        self.historico_pizzas = historico_pizzas\n",
    "        \n",
    "    def calcular_pizzas_posibles(self):\n",
    "        '''\n",
    "        logica que contraste ingredientes en bodega con pizzas que se deben \n",
    "        fabricar, y generará una lista de las pizzas que son posibles de generar\n",
    "        en base a eso\n",
    "        '''\n",
    "        return lista_pizzas_posibles\n",
    "    \n",
    "    def generar_pizza(self, lista_pizzas_posibles):\n",
    "        '''\n",
    "        logica aleatoria para escoger solo una pizza de la lista de pizzas posibles\n",
    "        y la genera (seguramente se necesitará el objeto de recetas)\n",
    "        '''\n",
    "        return pizza_generada\n",
    "    \n",
    "    def despachar_pizza(self, pizza):\n",
    "        self.historico_pizzas.agregar(pizza)\n",
    "        return self.historico_pizzas.mostrar_contenido()\n",
    "        "
   ]
  },
  {
   "cell_type": "code",
   "execution_count": null,
   "metadata": {},
   "outputs": [],
   "source": [
    "class ProcesoAbastecedor:\n",
    "    def __init__(self, bodega_ingredientes, pizzas_en_comercializacion):\n",
    "        self.bodega_ingredientes = bodega_ingredientes\n",
    "        self.pizzas_en_comercializacion = pizzas_en_comercializacion\n",
    "        \n",
    "    \n",
    "    def generar_partida_ingredientes(self):\n",
    "        listado_tipos_pizzas = pizzas_en_comercializacion.mostrar_contenido()\n",
    "        '''\n",
    "        logica de listar ingredientes y seleccionar aleatoriamente uno o varios\n",
    "        para generar una partida que entrará a bodega\n",
    "        '''\n",
    "        return listado_ingredientes\n",
    "    \n",
    "    def abastecer_ingrediente(self, ingrediente):\n",
    "        self.bodega_ingredientes.agregar(ingrediente)\n",
    "        return self.bodega_ingredientes.mostrar_contenido()\n",
    "    "
   ]
  },
  {
   "cell_type": "code",
   "execution_count": null,
   "metadata": {},
   "outputs": [],
   "source": [
    "import time\n",
    "\n",
    "bodega_ingredientes = BodegaIngredientes()\n",
    "pizzas_en_comercializacion = PizzasEnComercializacion()\n",
    "historico_pizzas = HistoricoPizzas()\n",
    "\n",
    "abastecedor = ProcesoAbastecedor(bodega_ingredientes, pizzas_en_comercializacion)\n",
    "\n",
    "fabricador = FabricadorPizza(bodega_ingredientes, pizzas_en_comercializacion, historico_pizzas)\n",
    "\n",
    "while True:\n",
    "    ingredientes_abastecido = abastecedor.generar_partida_ingredientes(pizzas_en_comercializacion)\n",
    "    abastecedor.abastecer_ingrediente(ingrediente_abastecido)\n",
    "    print(\"Abasteciendo ingredientes!!!\")\n",
    "    time.sleep(1)\n",
    "    print(\"Calculando pizzas factibles!!\")\n",
    "    if len(fabricador.calcula_pizzas_posibles()) != 0:\n",
    "        pizza = fabricador.generar_pizza()\n",
    "        print(\"Fabricando pizza:\", pizza)\n",
    "        fabricador.despacha_pizza(pizza)\n",
    "        print(\"Despachando pizza:\", pizza)\n",
    "    time.sleep(1)"
   ]
  }
 ],
 "metadata": {
  "kernelspec": {
   "display_name": "Python 3",
   "language": "python",
   "name": "python3"
  },
  "language_info": {
   "codemirror_mode": {
    "name": "ipython",
    "version": 3
   },
   "file_extension": ".py",
   "mimetype": "text/x-python",
   "name": "python",
   "nbconvert_exporter": "python",
   "pygments_lexer": "ipython3",
   "version": "3.8.5"
  }
 },
 "nbformat": 4,
 "nbformat_minor": 4
}
